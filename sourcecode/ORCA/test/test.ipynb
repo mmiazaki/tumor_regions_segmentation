{
 "cells": [
  {
   "cell_type": "code",
   "id": "initial_id",
   "metadata": {
    "collapsed": true,
    "ExecuteTime": {
     "end_time": "2024-10-29T22:45:42.595216Z",
     "start_time": "2024-10-29T22:45:42.567219Z"
    }
   },
   "source": [
    "class MinhaClasse:\n",
    "    \"\"\"Um exemplo de classe simples\"\"\"\n",
    "    i = 12345\n",
    "\n",
    "    def f(self):\n",
    "        return 'olá mundo'\n",
    "    \n",
    "    def __call__(self):\n",
    "        print('teste')\n",
    "    \n",
    "print(MinhaClasse.__doc__)\n",
    "x = MinhaClasse()\n",
    "print(x.f())\n",
    "a=x.f\n",
    "print(a())\n",
    "print(MinhaClasse.f(x))\n",
    "b = MinhaClasse.f\n",
    "print(b(x))\n",
    "print('================')\n",
    "getattr(MinhaClasse, 'f')(x)\n",
    "print('================')\n",
    "x()\n",
    "\n",
    "# getattr(A, aug_name)(always_apply=True)(image=image, mask=mask)"
   ],
   "outputs": [
    {
     "name": "stdout",
     "output_type": "stream",
     "text": [
      "Um exemplo de classe simples\n",
      "olá mundo\n",
      "olá mundo\n",
      "olá mundo\n",
      "olá mundo\n",
      "================\n",
      "================\n",
      "teste\n"
     ]
    }
   ],
   "execution_count": 2
  },
  {
   "metadata": {},
   "cell_type": "code",
   "outputs": [],
   "execution_count": null,
   "source": [
    "#model_saving_frequency = None          # No save\n",
    "#model_saving_frequency = ('all', 0)    # Save all\n",
    "#model_saving_frequency = ('every', 10) # Save every 10 epochs\n",
    "model_saving_frequency = ('last', 3)    # Save just the last 3 epochs\n",
    "\n",
    "frequency = None\n",
    "last = False\n",
    "if model_saving_frequency is not None:\n",
    "    if model_saving_frequency[0] == 'all':\n",
    "        frequency = 1\n",
    "    elif model_saving_frequency[0] == 'every':\n",
    "        frequency = model_saving_frequency[1]\n",
    "    elif model_saving_frequency[0] == 'last':\n",
    "        frequency = 1\n",
    "        last = True\n",
    "        \n",
    "\n",
    "for epoch in range(0, 10):\n",
    "    if epoch % frequency == 0:\n",
    "        #filename = save_model(output_dir, model, dataset_name, patch_size, epoch, qtd_images, batch_size,\n",
    "        #                      loss_function, optimizer_algorithm, augmentation)\n",
    "        print(epoch)\n",
    "    if last:\n",
    "        if epoch - model_saving_frequency[1] >= 1:\n",
    "            delete_model(output_dir, dataset_name, patch_size, epoch - 3, qtd_images, batch_size, loss_function, optimizer_algorithm, augmentation)\n"
   ],
   "id": "8484e184c16b68fe"
  }
 ],
 "metadata": {
  "kernelspec": {
   "display_name": "Python 3",
   "language": "python",
   "name": "python3"
  },
  "language_info": {
   "codemirror_mode": {
    "name": "ipython",
    "version": 2
   },
   "file_extension": ".py",
   "mimetype": "text/x-python",
   "name": "python",
   "nbconvert_exporter": "python",
   "pygments_lexer": "ipython2",
   "version": "2.7.6"
  }
 },
 "nbformat": 4,
 "nbformat_minor": 5
}
