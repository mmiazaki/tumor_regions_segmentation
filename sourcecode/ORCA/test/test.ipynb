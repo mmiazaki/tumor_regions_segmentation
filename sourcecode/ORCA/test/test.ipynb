{
 "cells": [
  {
   "metadata": {
    "ExecuteTime": {
     "end_time": "2024-12-15T23:05:12.110394Z",
     "start_time": "2024-12-15T23:05:11.127326Z"
    }
   },
   "cell_type": "code",
   "source": [
    "#model_saving_frequency = None          # No save\n",
    "#model_saving_frequency = ('all', 0)    # Save all\n",
    "#model_saving_frequency = ('every', 10) # Save every 10 epochs\n",
    "model_saving_frequency = ('last', 3)    # Save just the last 3 epochs\n",
    "\n",
    "frequency = None\n",
    "last = False\n",
    "if model_saving_frequency is not None:\n",
    "    if model_saving_frequency[0] == 'all':\n",
    "        frequency = 1\n",
    "    elif model_saving_frequency[0] == 'every':\n",
    "        frequency = model_saving_frequency[1]\n",
    "    elif model_saving_frequency[0] == 'last':\n",
    "        frequency = 1\n",
    "        last = True\n",
    "        \n",
    "\n",
    "for epoch in range(0, 10):\n",
    "    if epoch % frequency == 0:\n",
    "        #filename = save_model(output_dir, model, dataset_name, patch_size, epoch, qtd_images, batch_size,\n",
    "        #                      loss_function, optimizer_algorithm, augmentation)\n",
    "        print(epoch)\n",
    "    if last:\n",
    "        if epoch - model_saving_frequency[1] >= 1:\n",
    "            delete_model(output_dir, dataset_name, patch_size, epoch - 3, qtd_images, batch_size, loss_function, optimizer_algorithm, augmentation)\n"
   ],
   "id": "8484e184c16b68fe",
   "outputs": [
    {
     "name": "stdout",
     "output_type": "stream",
     "text": [
      "0\n",
      "1\n",
      "2\n",
      "3\n",
      "4\n"
     ]
    },
    {
     "ename": "NameError",
     "evalue": "name 'delete_model' is not defined",
     "output_type": "error",
     "traceback": [
      "\u001B[0;31m---------------------------------------------------------------------------\u001B[0m",
      "\u001B[0;31mNameError\u001B[0m                                 Traceback (most recent call last)",
      "Cell \u001B[0;32mIn[1], line 25\u001B[0m\n\u001B[1;32m     23\u001B[0m \u001B[38;5;28;01mif\u001B[39;00m last:\n\u001B[1;32m     24\u001B[0m     \u001B[38;5;28;01mif\u001B[39;00m epoch \u001B[38;5;241m-\u001B[39m model_saving_frequency[\u001B[38;5;241m1\u001B[39m] \u001B[38;5;241m>\u001B[39m\u001B[38;5;241m=\u001B[39m \u001B[38;5;241m1\u001B[39m:\n\u001B[0;32m---> 25\u001B[0m         \u001B[43mdelete_model\u001B[49m(output_dir, dataset_name, patch_size, epoch \u001B[38;5;241m-\u001B[39m \u001B[38;5;241m3\u001B[39m, qtd_images, batch_size, loss_function, optimizer_algorithm, augmentation)\n",
      "\u001B[0;31mNameError\u001B[0m: name 'delete_model' is not defined"
     ]
    }
   ],
   "execution_count": 1
  },
  {
   "metadata": {
    "collapsed": true,
    "ExecuteTime": {
     "end_time": "2024-12-15T23:05:12.607978874Z",
     "start_time": "2024-10-31T14:10:39.224321Z"
    }
   },
   "cell_type": "code",
   "outputs": [
    {
     "name": "stdout",
     "output_type": "stream",
     "text": [
      "Um exemplo de classe simples\n",
      "olá mundo\n",
      "olá mundo\n",
      "olá mundo\n",
      "olá mundo\n",
      "================\n",
      "================\n",
      "teste\n"
     ]
    }
   ],
   "execution_count": 1,
   "source": [
    "class MinhaClasse:\n",
    "    \"\"\"Um exemplo de classe simples\"\"\"\n",
    "    i = 12345\n",
    "\n",
    "    def f(self):\n",
    "        return 'olá mundo'\n",
    "    \n",
    "    def __call__(self):\n",
    "        print('teste')\n",
    "    \n",
    "print(MinhaClasse.__doc__)\n",
    "x = MinhaClasse()\n",
    "print(x.f())\n",
    "a=x.f\n",
    "print(a())\n",
    "print(MinhaClasse.f(x))\n",
    "b = MinhaClasse.f\n",
    "print(b(x))\n",
    "print('================')\n",
    "getattr(MinhaClasse, 'f')(x)\n",
    "print('================')\n",
    "x()\n",
    "\n",
    "# getattr(A, aug_name)(always_apply=True)(image=image, mask=mask)"
   ],
   "id": "initial_id"
  },
  {
   "metadata": {
    "ExecuteTime": {
     "end_time": "2024-12-15T23:05:13.133703643Z",
     "start_time": "2024-10-31T14:22:35.274401Z"
    }
   },
   "cell_type": "code",
   "source": [
    "class Teste:\n",
    "    i = 10\n",
    "\n",
    "    def f(self):\n",
    "        return 'olá mundo'\n",
    "    \n",
    "    def g():\n",
    "        print('Hello')\n",
    "\n",
    "    def h(s):\n",
    "        print(s.i)\n",
    "\n",
    "t = Teste()\n",
    "print(t.f())\n",
    "Teste.g()\n",
    "t.h()\n",
    "Teste.f(t)\n",
    "\n",
    "class Hello(Teste):\n",
    "    j = 100\n",
    "    def f(self):\n",
    "        return 'overwrite'\n",
    "\n",
    "h = Hello()\n",
    "print(h.f())"
   ],
   "id": "acaceaa72d66baaf",
   "outputs": [
    {
     "name": "stdout",
     "output_type": "stream",
     "text": [
      "olá mundo\n",
      "Hello\n",
      "10\n",
      "overwrite\n"
     ]
    }
   ],
   "execution_count": 13
  },
  {
   "metadata": {
    "ExecuteTime": {
     "end_time": "2024-12-15T23:05:13.668190287Z",
     "start_time": "2024-10-31T15:52:55.214188Z"
    }
   },
   "cell_type": "code",
   "source": [
    "def ff(a, b):\n",
    "    print(a+b)\n",
    "\n",
    "ff(2, 3)\n",
    "\n",
    "def ff(a, b):\n",
    "    print(a*b)\n",
    "    \n",
    "ff(2, 3)\n",
    "\n",
    "def ff(a, b, c):\n",
    "    print(a+b+c)\n",
    "    \n",
    "ff(10, 10, 10)\n",
    "\n",
    "p = ff\n",
    "p(5, 5, 5)"
   ],
   "id": "f1deb29b9307165d",
   "outputs": [
    {
     "name": "stdout",
     "output_type": "stream",
     "text": [
      "5\n",
      "6\n",
      "30\n",
      "15\n"
     ]
    }
   ],
   "execution_count": 18
  }
 ],
 "metadata": {
  "kernelspec": {
   "display_name": "Python 3",
   "language": "python",
   "name": "python3"
  },
  "language_info": {
   "codemirror_mode": {
    "name": "ipython",
    "version": 2
   },
   "file_extension": ".py",
   "mimetype": "text/x-python",
   "name": "python",
   "nbconvert_exporter": "python",
   "pygments_lexer": "ipython2",
   "version": "2.7.6"
  }
 },
 "nbformat": 4,
 "nbformat_minor": 5
}
