{
 "cells": [
  {
   "metadata": {
    "ExecuteTime": {
     "end_time": "2024-09-27T23:23:15.011744Z",
     "start_time": "2024-09-27T23:23:14.998741Z"
    }
   },
   "cell_type": "code",
   "source": [
    "import pandas as pd\n",
    "import numpy as np"
   ],
   "id": "81806471c4316f51",
   "outputs": [],
   "execution_count": 91
  },
  {
   "metadata": {
    "ExecuteTime": {
     "end_time": "2024-09-27T23:23:15.064950Z",
     "start_time": "2024-09-27T23:23:15.037764Z"
    }
   },
   "cell_type": "code",
   "source": [
    "def aug_analysis(measures, augmentations):\n",
    "    df = pd.DataFrame(measures)\n",
    "    l1 = []\n",
    "    for i in range(0, df.shape[0]):\n",
    "        l2 = []\n",
    "        s = 0\n",
    "        for j in range(0, df.shape[0]):\n",
    "            n = sum(df.loc[i,:]-df.loc[j,:]>0)\n",
    "            l2.append(n)\n",
    "            s = s + n\n",
    "        l2.append(s)\n",
    "        l1.append(l2)\n",
    "        \n",
    "    df2 = pd.DataFrame(l1, columns=augmentations+['Total'], index=augmentations)\n",
    "    return df2\n",
    "    "
   ],
   "id": "7422813e85555ba3",
   "outputs": [],
   "execution_count": 92
  },
  {
   "metadata": {
    "collapsed": true,
    "ExecuteTime": {
     "end_time": "2024-09-27T23:23:15.182512Z",
     "start_time": "2024-09-27T23:23:15.123546Z"
    }
   },
   "cell_type": "code",
   "source": [
    "# Obtained measures\n",
    "measures = [\n",
    "[0.8521, 0.6705, 0.7351, 0.6051, 0.8656, 0.8546],\n",
    "[0.8445, 0.6722, 0.7238, 0.5929, 0.8516, 0.8540],\n",
    "[0.8569, 0.6989, 0.7282, 0.5980, 0.8135, 0.8817],\n",
    "[0.8650, 0.7113, 0.7190, 0.5901, 0.7589, 0.8968],\n",
    "[0.8596, 0.7195, 0.7104, 0.5774, 0.7406, 0.9025],\n",
    "[0.8706, 0.7324, 0.7330, 0.6019, 0.7649, 0.9046],\n",
    "[0.8564, 0.6972, 0.7265, 0.5965, 0.8065, 0.8831],\n",
    "]\n",
    "\n",
    "augmentations = [\n",
    "'NoAug',\n",
    "'Color',\n",
    "'Inpnt',\n",
    "'Geome',\n",
    "'Disto',\n",
    "'All-8',\n",
    "'BCEL3']\n",
    "\n",
    "df = aug_analysis(measures, augmentations)\n",
    "df = df.sort_values(by=['Total'])\n",
    "print(df)"
   ],
   "id": "initial_id",
   "outputs": [
    {
     "name": "stdout",
     "output_type": "stream",
     "text": [
      "       NoAug  Color  Inpnt  Geome  Disto  All-8  BCEL3  Total\n",
      "Color      1      0      1      3      3      1      1     10\n",
      "Disto      3      3      3      2      0      0      3     14\n",
      "Geome      3      3      3      0      4      0      3     16\n",
      "BCEL3      3      5      1      3      3      1      0     16\n",
      "NoAug      0      5      3      3      3      3      3     20\n",
      "Inpnt      3      5      0      3      3      1      5     20\n",
      "All-8      3      5      5      6      6      0      5     30\n"
     ]
    }
   ],
   "execution_count": 93
  },
  {
   "metadata": {
    "ExecuteTime": {
     "end_time": "2024-09-27T23:23:15.347680Z",
     "start_time": "2024-09-27T23:23:15.269043Z"
    }
   },
   "cell_type": "code",
   "source": [
    "# Article measures\n",
    "measures = [\n",
    "[0.8545, 0.7222, 0.7545, 0.6057, 0.7897, 0.8801],\n",
    "[0.8462, 0.6959, 0.7488, 0.5985, 0.8104, 0.8603],\n",
    "[0.8618, 0.7441, 0.7616, 0.6150, 0.7800, 0.8942],\n",
    "[0.8571, 0.7663, 0.7383, 0.5851, 0.7122, 0.9143],\n",
    "[0.8623, 0.7393, 0.7651, 0.6196, 0.7928, 0.8897],\n",
    "[0.8592, 0.7645, 0.7448, 0.5934, 0.7262, 0.9117],\n",
    "[0.8646, 0.7381, 0.7716, 0.6281, 0.8083, 0.8868],\n",
    "]\n",
    "\n",
    "df = aug_analysis(measures, augmentations)\n",
    "df = df.sort_values(by=['Total'])\n",
    "print(df)"
   ],
   "id": "793fe34dc9503109",
   "outputs": [
    {
     "name": "stdout",
     "output_type": "stream",
     "text": [
      "       NoAug  Color  Inpnt  Geome  Disto  All-8  BCEL3  Total\n",
      "Color      1      0      1      3      1      3      1     10\n",
      "NoAug      0      5      1      3      0      3      0     12\n",
      "Geome      3      3      2      0      2      2      2     14\n",
      "All-8      3      3      2      4      2      0      2     16\n",
      "Inpnt      5      5      0      4      2      4      2     22\n",
      "Disto      6      5      4      4      0      4      2     25\n",
      "BCEL3      6      5      4      4      4      4      0     27\n"
     ]
    }
   ],
   "execution_count": 94
  },
  {
   "metadata": {
    "ExecuteTime": {
     "end_time": "2024-09-27T23:23:15.486425Z",
     "start_time": "2024-09-27T23:23:15.442552Z"
    }
   },
   "cell_type": "code",
   "source": [
    "# loss function\n",
    "measures = [\n",
    "[0.8564, 0.6972, 0.7265, 0.5965, 0.8065, 0.8831],\n",
    "[0.8575, 0.7264, 0.7081, 0.5736, 0.7369, 0.9064],\n",
    "[0.8594, 0.7190, 0.7110, 0.5804, 0.7493, 0.9045],\n",
    "[0.8644, 0.7109, 0.7359, 0.6064, 0.8058, 0.8891],\n",
    "[0.8659, 0.7485, 0.7179, 0.5845, 0.7341, 0.9157],\n",
    "]\n",
    "\n",
    "loss_functions = [\n",
    "'BCE(3)',\n",
    "'Huber',\n",
    "'MSE',\n",
    "'L1',\n",
    "'SmoothL1',\n",
    "]\n",
    "\n",
    "df = aug_analysis(measures, loss_functions)\n",
    "df = df.sort_values(by=['Total'])\n",
    "print(df)"
   ],
   "id": "4eb4e4c7d0ab4e28",
   "outputs": [
    {
     "name": "stdout",
     "output_type": "stream",
     "text": [
      "          BCE(3)  Huber  MSE  L1  SmoothL1  Total\n",
      "Huber          3      0    2   2         1      8\n",
      "BCE(3)         0      3    3   1         3     10\n",
      "MSE            3      4    0   2         1     10\n",
      "L1             5      4    4   0         3     16\n",
      "SmoothL1       3      5    5   3         0     16\n"
     ]
    }
   ],
   "execution_count": 95
  },
  {
   "metadata": {
    "ExecuteTime": {
     "end_time": "2024-09-27T23:26:40.656387Z",
     "start_time": "2024-09-27T23:26:40.614755Z"
    }
   },
   "cell_type": "code",
   "source": [
    "# loss function - with article result\n",
    "measures = [\n",
    "[0.8646, 0.7388, 0.7716, 0.6281, 0.7897, 0.8880],\n",
    "[0.8575, 0.7264, 0.7081, 0.5736, 0.7369, 0.9064],\n",
    "[0.8594, 0.7190, 0.7110, 0.5804, 0.7493, 0.9045],\n",
    "[0.8644, 0.7109, 0.7359, 0.6064, 0.8058, 0.8891],\n",
    "[0.8659, 0.7485, 0.7179, 0.5845, 0.7341, 0.9157],\n",
    "]\n",
    "\n",
    "loss_functions = [\n",
    "'BCE(Art)',\n",
    "'Huber',\n",
    "'MSE',\n",
    "'L1',\n",
    "'SmoothL1',\n",
    "]\n",
    "\n",
    "df = aug_analysis(measures, loss_functions)\n",
    "df = df.sort_values(by=['Total'])\n",
    "print(df)"
   ],
   "id": "19790652613e33db",
   "outputs": [
    {
     "name": "stdout",
     "output_type": "stream",
     "text": [
      "          BCE(Art)  Huber  MSE  L1  SmoothL1  Total\n",
      "Huber            1      0    2   2         1      6\n",
      "MSE              1      4    0   2         1      8\n",
      "L1               2      4    4   0         3     13\n",
      "SmoothL1         3      5    5   3         0     16\n",
      "BCE(Art)         0      5    5   4         3     17\n"
     ]
    }
   ],
   "execution_count": 102
  },
  {
   "metadata": {
    "ExecuteTime": {
     "end_time": "2024-09-27T23:23:35.445447Z",
     "start_time": "2024-09-27T23:23:35.401638Z"
    }
   },
   "cell_type": "code",
   "source": [
    "# loss function - all\n",
    "measures = [\n",
    "[0.8564, 0.6972, 0.7265, 0.5965, 0.8065, 0.8831],\n",
    "[0.8646, 0.7388, 0.7716, 0.6281, 0.7897, 0.8880],\n",
    "[0.8575, 0.7264, 0.7081, 0.5736, 0.7369, 0.9064],\n",
    "[0.8594, 0.7190, 0.7110, 0.5804, 0.7493, 0.9045],\n",
    "[0.8644, 0.7109, 0.7359, 0.6064, 0.8058, 0.8891],\n",
    "[0.8659, 0.7485, 0.7179, 0.5845, 0.7341, 0.9157],\n",
    "]\n",
    "\n",
    "loss_functions = [\n",
    "'BCE(3)',\n",
    "'BCE(Art)',\n",
    "'Huber',\n",
    "'MSE',\n",
    "'L1',\n",
    "'SmoothL1',\n",
    "]\n",
    "\n",
    "df = aug_analysis(measures, loss_functions)\n",
    "df = df.sort_values(by=['Total'])\n",
    "print(df)"
   ],
   "id": "d13e834c5edccf02",
   "outputs": [
    {
     "name": "stdout",
     "output_type": "stream",
     "text": [
      "          BCE(3)  BCE(Art)  Huber  MSE  L1  SmoothL1  Total\n",
      "Huber          3         1      0    2   2         1      9\n",
      "BCE(3)         0         1      3    3   1         3     11\n",
      "MSE            3         1      4    0   2         1     11\n",
      "L1             5         2      4    4   0         3     18\n",
      "SmoothL1       3         3      5    5   3         0     19\n",
      "BCE(Art)       5         0      5    5   4         3     22\n"
     ]
    }
   ],
   "execution_count": 99
  },
  {
   "metadata": {
    "ExecuteTime": {
     "end_time": "2024-09-27T23:23:46.972768Z",
     "start_time": "2024-09-27T23:23:46.895488Z"
    }
   },
   "cell_type": "code",
   "source": [
    "# BCELoss\n",
    "measures = [\n",
    "[0.8591, 0.7231, 0.7057, 0.5757, 0.7472, 0.8975],\n",
    "[0.8587, 0.7167, 0.7134, 0.5833, 0.7690, 0.8988],\n",
    "[0.8564, 0.6972, 0.7265, 0.5965, 0.8065, 0.8831],\n",
    "[0.86608265, 0.72676522, 0.73541455, 0.60645461, 0.80060952, 0.89601377],\n",
    "[0.86012787, 0.71423168, 0.72525153, 0.59500096, 0.79227411, 0.89351339],\n",
    "[0.85556618, 0.72620911, 0.69390897, 0.56201657, 0.71798752, 0.90845030],\n",
    "[0.85357605, 0.72938913, 0.69561918, 0.56264581, 0.72143526, 0.91378869],\n",
    "]\n",
    "\n",
    "loss_functions = [\n",
    "'BCE(1)',\n",
    "'BCE(2)',\n",
    "'BCE(3)',\n",
    "'BCE9(1)',\n",
    "'BCE9(2)',\n",
    "'BCE9(3)',\n",
    "'BCE9(4)',\n",
    "]\n",
    "\n",
    "df = aug_analysis(measures, loss_functions)\n",
    "df = df.sort_values(by=['Total'])\n",
    "print(df)"
   ],
   "id": "4890ce3ea233148d",
   "outputs": [
    {
     "name": "stdout",
     "output_type": "stream",
     "text": [
      "         BCE(1)  BCE(2)  BCE(3)  BCE9(1)  BCE9(2)  BCE9(3)  BCE9(4)  Total\n",
      "BCE9(3)       2       2       2        1        2        0        1     10\n",
      "BCE9(4)       2       2       2        2        2        5        0     15\n",
      "BCE(1)        0       2       3        1        2        4        4     16\n",
      "BCE(2)        4       0       3        1        2        4        4     18\n",
      "BCE(3)        3       3       0        1        3        4        4     18\n",
      "BCE9(2)       4       4       3        0        0        4        4     19\n",
      "BCE9(1)       5       5       5        0        6        5        4     30\n"
     ]
    }
   ],
   "execution_count": 100
  }
 ],
 "metadata": {
  "kernelspec": {
   "display_name": "Python 3",
   "language": "python",
   "name": "python3"
  },
  "language_info": {
   "codemirror_mode": {
    "name": "ipython",
    "version": 2
   },
   "file_extension": ".py",
   "mimetype": "text/x-python",
   "name": "python",
   "nbconvert_exporter": "python",
   "pygments_lexer": "ipython2",
   "version": "2.7.6"
  }
 },
 "nbformat": 4,
 "nbformat_minor": 5
}
